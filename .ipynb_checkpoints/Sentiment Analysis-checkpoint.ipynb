{
 "cells": [
  {
   "cell_type": "code",
   "execution_count": 150,
   "id": "7f183e80",
   "metadata": {},
   "outputs": [],
   "source": [
    "import pandas as pd\n",
    "from bs4 import BeautifulSoup\n",
    "import requests\n",
    "import re\n",
    "from urllib.request import urlopen\n",
    "import json"
   ]
  },
  {
   "cell_type": "code",
   "execution_count": 151,
   "id": "226bc5ef",
   "metadata": {},
   "outputs": [],
   "source": [
    "api = '825bf7ec4a7cd7119564472623dfaf05'\n",
    "\n",
    "def rec(title):\n",
    "    title = title.replace(\" \", \"%20\")\n",
    "    url1 ='https://api.themoviedb.org/3/search/movie?api_key='+api+'&query='+title\n",
    "    #x = requests.get(url1)\n",
    "    #soup = BeautifulSoup(x.text)\n",
    "    response = urlopen(url1)\n",
    "    data_json = json.loads(response.read())\n",
    "    sessionPandas = pd.DataFrame(data_json)\n",
    "    ser = pd.Series(sessionPandas.results[0], index = ['id'])\n",
    "    return ser"
   ]
  },
  {
   "cell_type": "markdown",
   "id": "602e377e",
   "metadata": {},
   "source": [
    "<!-- api = '825bf7ec4a7cd7119564472623dfaf05'\n",
    "url1 ='https://api.themoviedb.org/3/search/movie?api_key='+api+'&query=PulpFiction'\n",
    "x = requests.get(url1)\n",
    "response = urlopen(url1)\n",
    "soup = BeautifulSoup(x.text)\n",
    " -->"
   ]
  },
  {
   "cell_type": "code",
   "execution_count": 153,
   "id": "5bd55280",
   "metadata": {},
   "outputs": [
    {
     "data": {
      "text/plain": [
       "id    680\n",
       "dtype: object"
      ]
     },
     "execution_count": 153,
     "metadata": {},
     "output_type": "execute_result"
    }
   ],
   "source": [
    "rec('Pulp Fiction')"
   ]
  }
 ],
 "metadata": {
  "kernelspec": {
   "display_name": "Python 3",
   "language": "python",
   "name": "python3"
  },
  "language_info": {
   "codemirror_mode": {
    "name": "ipython",
    "version": 3
   },
   "file_extension": ".py",
   "mimetype": "text/x-python",
   "name": "python",
   "nbconvert_exporter": "python",
   "pygments_lexer": "ipython3",
   "version": "3.7.9"
  }
 },
 "nbformat": 4,
 "nbformat_minor": 5
}
