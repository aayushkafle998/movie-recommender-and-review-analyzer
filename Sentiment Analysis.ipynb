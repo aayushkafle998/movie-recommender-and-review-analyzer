{
 "cells": [
  {
   "cell_type": "code",
   "execution_count": 291,
   "id": "7f183e80",
   "metadata": {},
   "outputs": [],
   "source": [
    "import pandas as pd\n",
    "import numpy as np\n",
    "from bs4 import BeautifulSoup\n",
    "import requests\n",
    "import re\n",
    "import pickle"
   ]
  },
  {
   "cell_type": "code",
   "execution_count": 292,
   "id": "51b602c5",
   "metadata": {},
   "outputs": [],
   "source": [
    "filename = 'nlp_model.pkl'\n",
    "clf = pickle.load(open(filename, 'rb'))\n",
    "vectorizer = pickle.load(open('tranform.pkl','rb'))"
   ]
  },
  {
   "cell_type": "code",
   "execution_count": 293,
   "id": "02d24553",
   "metadata": {},
   "outputs": [],
   "source": [
    "api = '825bf7ec4a7cd7119564472623dfaf05'\n",
    "\n",
    "imdbID = 'tt10888594'\n",
    "url1 = 'https://www.imdb.com/title/'+imdbID+'/reviews?sort=helpfulnessScore&dir=desc&ratingFilter=0'\n",
    "x = requests.get(url1)\n",
    "soup = BeautifulSoup(x.text,\"html.parser\")\n"
   ]
  },
  {
   "cell_type": "code",
   "execution_count": 294,
   "id": "4dc1876e",
   "metadata": {},
   "outputs": [
    {
     "name": "stdout",
     "output_type": "stream",
     "text": [
      "<class 'bs4.element.ResultSet'>\n",
      "25\n"
     ]
    }
   ],
   "source": [
    "mov_cont = soup.find_all('div', class_ = 'text show-more__control')\n",
    "print (type(mov_cont))\n",
    "print (len(mov_cont))"
   ]
  },
  {
   "cell_type": "code",
   "execution_count": 297,
   "id": "b215ebf3",
   "metadata": {},
   "outputs": [],
   "source": [
    "reviews_list = [] # list of reviews\n",
    "reviews_status = [] # list of comments (good or bad)\n",
    "for reviews in mov_cont:\n",
    "    if reviews.string:\n",
    "        reviews_list.append(reviews.string)\n",
    "        movie_review_list = np.array([reviews.string])\n",
    "        movie_vector = vectorizer.transform(movie_review_list)\n",
    "        pred = clf.predict(movie_vector)\n",
    "        reviews_status.append('Good' if pred else 'Bad')"
   ]
  },
  {
   "cell_type": "code",
   "execution_count": 298,
   "id": "d8d9f262",
   "metadata": {},
   "outputs": [
    {
     "data": {
      "text/html": [
       "<div>\n",
       "<style scoped>\n",
       "    .dataframe tbody tr th:only-of-type {\n",
       "        vertical-align: middle;\n",
       "    }\n",
       "\n",
       "    .dataframe tbody tr th {\n",
       "        vertical-align: top;\n",
       "    }\n",
       "\n",
       "    .dataframe thead th {\n",
       "        text-align: right;\n",
       "    }\n",
       "</style>\n",
       "<table border=\"1\" class=\"dataframe\">\n",
       "  <thead>\n",
       "    <tr style=\"text-align: right;\">\n",
       "      <th></th>\n",
       "      <th>review</th>\n",
       "      <th>sentiment</th>\n",
       "    </tr>\n",
       "  </thead>\n",
       "  <tbody>\n",
       "    <tr>\n",
       "      <th>0</th>\n",
       "      <td>Salman Khan needs to take retirement. This mov...</td>\n",
       "      <td>Bad</td>\n",
       "    </tr>\n",
       "    <tr>\n",
       "      <th>1</th>\n",
       "      <td>Super duper flop. Old wine in new bottleIt's l...</td>\n",
       "      <td>Bad</td>\n",
       "    </tr>\n",
       "    <tr>\n",
       "      <th>2</th>\n",
       "      <td>Dont waste your time on this garbage Salman Kh...</td>\n",
       "      <td>Bad</td>\n",
       "    </tr>\n",
       "    <tr>\n",
       "      <th>3</th>\n",
       "      <td>I would rather prefer watching TVF webseries a...</td>\n",
       "      <td>Bad</td>\n",
       "    </tr>\n",
       "    <tr>\n",
       "      <th>4</th>\n",
       "      <td>Let me come straight to the point - this movie...</td>\n",
       "      <td>Bad</td>\n",
       "    </tr>\n",
       "    <tr>\n",
       "      <th>5</th>\n",
       "      <td>We don't eserve another pandemic . We understa...</td>\n",
       "      <td>Bad</td>\n",
       "    </tr>\n",
       "    <tr>\n",
       "      <th>6</th>\n",
       "      <td>Typical Salman khan film with no logic and no ...</td>\n",
       "      <td>Bad</td>\n",
       "    </tr>\n",
       "    <tr>\n",
       "      <th>7</th>\n",
       "      <td>I knew it. This movie is going to be trash whe...</td>\n",
       "      <td>Good</td>\n",
       "    </tr>\n",
       "  </tbody>\n",
       "</table>\n",
       "</div>"
      ],
      "text/plain": [
       "                                              review sentiment\n",
       "0  Salman Khan needs to take retirement. This mov...       Bad\n",
       "1  Super duper flop. Old wine in new bottleIt's l...       Bad\n",
       "2  Dont waste your time on this garbage Salman Kh...       Bad\n",
       "3  I would rather prefer watching TVF webseries a...       Bad\n",
       "4  Let me come straight to the point - this movie...       Bad\n",
       "5  We don't eserve another pandemic . We understa...       Bad\n",
       "6  Typical Salman khan film with no logic and no ...       Bad\n",
       "7  I knew it. This movie is going to be trash whe...      Good"
      ]
     },
     "execution_count": 298,
     "metadata": {},
     "output_type": "execute_result"
    }
   ],
   "source": [
    "scrap = pd.DataFrame({'review':reviews_list[:8],'sentiment':reviews_status[:8]})\n",
    "scrap.loc[:, 'review'] = scrap['review'].str.replace(\"\\n\",\"\")\n",
    "scrap"
   ]
  }
 ],
 "metadata": {
  "kernelspec": {
   "display_name": "Python 3",
   "language": "python",
   "name": "python3"
  },
  "language_info": {
   "codemirror_mode": {
    "name": "ipython",
    "version": 3
   },
   "file_extension": ".py",
   "mimetype": "text/x-python",
   "name": "python",
   "nbconvert_exporter": "python",
   "pygments_lexer": "ipython3",
   "version": "3.7.9"
  }
 },
 "nbformat": 4,
 "nbformat_minor": 5
}
