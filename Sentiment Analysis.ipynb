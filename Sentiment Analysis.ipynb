{
 "cells": [
  {
   "cell_type": "code",
   "execution_count": 1,
   "id": "c574593f",
   "metadata": {},
   "outputs": [],
   "source": [
    "import pandas as pd\n",
    "import numpy as np"
   ]
  },
  {
   "cell_type": "code",
   "execution_count": 49,
   "id": "8443106f",
   "metadata": {},
   "outputs": [
    {
     "data": {
      "text/plain": [
       "(50000, 2)"
      ]
     },
     "execution_count": 49,
     "metadata": {},
     "output_type": "execute_result"
    }
   ],
   "source": [
    "df = pd.read_csv('review.csv')\n",
    "df.shape"
   ]
  },
  {
   "cell_type": "code",
   "execution_count": 50,
   "id": "81f5058c",
   "metadata": {},
   "outputs": [
    {
     "data": {
      "text/html": [
       "<div>\n",
       "<style scoped>\n",
       "    .dataframe tbody tr th:only-of-type {\n",
       "        vertical-align: middle;\n",
       "    }\n",
       "\n",
       "    .dataframe tbody tr th {\n",
       "        vertical-align: top;\n",
       "    }\n",
       "\n",
       "    .dataframe thead th {\n",
       "        text-align: right;\n",
       "    }\n",
       "</style>\n",
       "<table border=\"1\" class=\"dataframe\">\n",
       "  <thead>\n",
       "    <tr style=\"text-align: right;\">\n",
       "      <th></th>\n",
       "      <th>review</th>\n",
       "      <th>sentiment</th>\n",
       "    </tr>\n",
       "  </thead>\n",
       "  <tbody>\n",
       "    <tr>\n",
       "      <th>0</th>\n",
       "      <td>One of the other reviewers has mentioned that ...</td>\n",
       "      <td>positive</td>\n",
       "    </tr>\n",
       "    <tr>\n",
       "      <th>1</th>\n",
       "      <td>A wonderful little production. &lt;br /&gt;&lt;br /&gt;The...</td>\n",
       "      <td>positive</td>\n",
       "    </tr>\n",
       "    <tr>\n",
       "      <th>2</th>\n",
       "      <td>I thought this was a wonderful way to spend ti...</td>\n",
       "      <td>positive</td>\n",
       "    </tr>\n",
       "    <tr>\n",
       "      <th>3</th>\n",
       "      <td>Basically there's a family where a little boy ...</td>\n",
       "      <td>negative</td>\n",
       "    </tr>\n",
       "    <tr>\n",
       "      <th>4</th>\n",
       "      <td>Petter Mattei's \"Love in the Time of Money\" is...</td>\n",
       "      <td>positive</td>\n",
       "    </tr>\n",
       "    <tr>\n",
       "      <th>5</th>\n",
       "      <td>Probably my all-time favorite movie, a story o...</td>\n",
       "      <td>positive</td>\n",
       "    </tr>\n",
       "    <tr>\n",
       "      <th>6</th>\n",
       "      <td>I sure would like to see a resurrection of a u...</td>\n",
       "      <td>positive</td>\n",
       "    </tr>\n",
       "    <tr>\n",
       "      <th>7</th>\n",
       "      <td>This show was an amazing, fresh &amp; innovative i...</td>\n",
       "      <td>negative</td>\n",
       "    </tr>\n",
       "    <tr>\n",
       "      <th>8</th>\n",
       "      <td>Encouraged by the positive comments about this...</td>\n",
       "      <td>negative</td>\n",
       "    </tr>\n",
       "    <tr>\n",
       "      <th>9</th>\n",
       "      <td>If you like original gut wrenching laughter yo...</td>\n",
       "      <td>positive</td>\n",
       "    </tr>\n",
       "  </tbody>\n",
       "</table>\n",
       "</div>"
      ],
      "text/plain": [
       "                                              review sentiment\n",
       "0  One of the other reviewers has mentioned that ...  positive\n",
       "1  A wonderful little production. <br /><br />The...  positive\n",
       "2  I thought this was a wonderful way to spend ti...  positive\n",
       "3  Basically there's a family where a little boy ...  negative\n",
       "4  Petter Mattei's \"Love in the Time of Money\" is...  positive\n",
       "5  Probably my all-time favorite movie, a story o...  positive\n",
       "6  I sure would like to see a resurrection of a u...  positive\n",
       "7  This show was an amazing, fresh & innovative i...  negative\n",
       "8  Encouraged by the positive comments about this...  negative\n",
       "9  If you like original gut wrenching laughter yo...  positive"
      ]
     },
     "execution_count": 50,
     "metadata": {},
     "output_type": "execute_result"
    }
   ],
   "source": [
    "df.head(10)"
   ]
  },
  {
   "cell_type": "markdown",
   "id": "c16bec96",
   "metadata": {},
   "source": [
    "### Text Cleaning"
   ]
  },
  {
   "cell_type": "code",
   "execution_count": 51,
   "id": "708351e3",
   "metadata": {},
   "outputs": [
    {
     "data": {
      "text/plain": [
       "(2000, 2)"
      ]
     },
     "execution_count": 51,
     "metadata": {},
     "output_type": "execute_result"
    }
   ],
   "source": [
    "#sample random 2000 rows\n",
    "df=df.sample(2000)\n",
    "df.shape"
   ]
  },
  {
   "cell_type": "code",
   "execution_count": 52,
   "id": "7d69679e",
   "metadata": {},
   "outputs": [
    {
     "data": {
      "text/html": [
       "<div>\n",
       "<style scoped>\n",
       "    .dataframe tbody tr th:only-of-type {\n",
       "        vertical-align: middle;\n",
       "    }\n",
       "\n",
       "    .dataframe tbody tr th {\n",
       "        vertical-align: top;\n",
       "    }\n",
       "\n",
       "    .dataframe thead th {\n",
       "        text-align: right;\n",
       "    }\n",
       "</style>\n",
       "<table border=\"1\" class=\"dataframe\">\n",
       "  <thead>\n",
       "    <tr style=\"text-align: right;\">\n",
       "      <th></th>\n",
       "      <th>review</th>\n",
       "      <th>sentiment</th>\n",
       "    </tr>\n",
       "  </thead>\n",
       "  <tbody>\n",
       "    <tr>\n",
       "      <th>40705</th>\n",
       "      <td>Cinema, at its best is entertainment. If one i...</td>\n",
       "      <td>1</td>\n",
       "    </tr>\n",
       "    <tr>\n",
       "      <th>9647</th>\n",
       "      <td>This is simply another bad Chuck Norris movie....</td>\n",
       "      <td>0</td>\n",
       "    </tr>\n",
       "    <tr>\n",
       "      <th>22689</th>\n",
       "      <td>Evening is the beautiful story of the flawed l...</td>\n",
       "      <td>1</td>\n",
       "    </tr>\n",
       "    <tr>\n",
       "      <th>23756</th>\n",
       "      <td>I can't really remember any details of this mo...</td>\n",
       "      <td>0</td>\n",
       "    </tr>\n",
       "    <tr>\n",
       "      <th>5339</th>\n",
       "      <td>I'm fan of ART, I like anything about Art, I l...</td>\n",
       "      <td>1</td>\n",
       "    </tr>\n",
       "  </tbody>\n",
       "</table>\n",
       "</div>"
      ],
      "text/plain": [
       "                                                  review  sentiment\n",
       "40705  Cinema, at its best is entertainment. If one i...          1\n",
       "9647   This is simply another bad Chuck Norris movie....          0\n",
       "22689  Evening is the beautiful story of the flawed l...          1\n",
       "23756  I can't really remember any details of this mo...          0\n",
       "5339   I'm fan of ART, I like anything about Art, I l...          1"
      ]
     },
     "execution_count": 52,
     "metadata": {},
     "output_type": "execute_result"
    }
   ],
   "source": [
    "df['sentiment'].replace({'positive':1,'negative':0},inplace=True)\n",
    "df.head()"
   ]
  },
  {
   "cell_type": "code",
   "execution_count": 53,
   "id": "f02fbfe0",
   "metadata": {},
   "outputs": [
    {
     "data": {
      "text/plain": [
       "'This is simply another bad Chuck Norris movie. Norris plays a cop on the trail of a twisted serial killer of women. He put the guy away three years before, but the guy somehow gets through the bars in the nut house he\\'s in by using what looks like dental floss. Then the killer escapes in a cleaning van and drives it over a 400 foot cliff and survives to spend time around a theater undergoing renovation. Irish Jack O\\'Halloran is the best thing in this movie, but like in Superman II, he doesn\\'t say a word. Somehow that\\'s supposed to make him more menacing. Ron O\\'Neal of Super Fly fame and Steve James are wasted playing the city\\'s mayor and Norris\\' sidekick respectively. The film also contains the idiotic subplot of Norris and his girlfriend having a child out of wedlock; it\\'s so 1980\\'s. When coupling Norris\\' \"serious\" acting turn with over-the-top musical cues signaling every forthcoming scene in predictable fashion, the film becomes a chore to sit through. The build-up while searching for the killer in the theater is interesting enough with Norris crawling through the shadows to discover the hideaway, but the end fight is disappointing after beginning in such a promising way. It\\'s yet another disappointment from Cannon Films, and it plays like a movie made for television. * of 4 stars.'"
      ]
     },
     "execution_count": 53,
     "metadata": {},
     "output_type": "execute_result"
    }
   ],
   "source": [
    "df.iloc[1].review"
   ]
  },
  {
   "cell_type": "code",
   "execution_count": 54,
   "id": "ed171018",
   "metadata": {},
   "outputs": [
    {
     "data": {
      "text/plain": [
       "'This is simply another bad Chuck Norris movie. Norris plays a cop on the trail of a twisted serial killer of women. He put the guy away three years before, but the guy somehow gets through the bars in the nut house he\\'s in by using what looks like dental floss. Then the killer escapes in a cleaning van and drives it over a 400 foot cliff and survives to spend time around a theater undergoing renovation. Irish Jack O\\'Halloran is the best thing in this movie, but like in Superman II, he doesn\\'t say a word. Somehow that\\'s supposed to make him more menacing. Ron O\\'Neal of Super Fly fame and Steve James are wasted playing the city\\'s mayor and Norris\\' sidekick respectively. The film also contains the idiotic subplot of Norris and his girlfriend having a child out of wedlock; it\\'s so 1980\\'s. When coupling Norris\\' \"serious\" acting turn with over-the-top musical cues signaling every forthcoming scene in predictable fashion, the film becomes a chore to sit through. The build-up while searching for the killer in the theater is interesting enough with Norris crawling through the shadows to discover the hideaway, but the end fight is disappointing after beginning in such a promising way. It\\'s yet another disappointment from Cannon Films, and it plays like a movie made for television. * of 4 stars.'"
      ]
     },
     "execution_count": 54,
     "metadata": {},
     "output_type": "execute_result"
    }
   ],
   "source": [
    "#removing html tags\n",
    "import re\n",
    "clean = re.compile('<.*?>')\n",
    "re.sub(clean,'',df.iloc[1].review)"
   ]
  },
  {
   "cell_type": "code",
   "execution_count": 55,
   "id": "62765c83",
   "metadata": {},
   "outputs": [],
   "source": [
    "def clean_html(text):\n",
    "    clean = re.compile('<.*?>')\n",
    "    return re.sub(clean, '', text)"
   ]
  },
  {
   "cell_type": "code",
   "execution_count": 56,
   "id": "f3702ba2",
   "metadata": {},
   "outputs": [],
   "source": [
    "df['review'] = df['review'].apply(clean_html)"
   ]
  },
  {
   "cell_type": "code",
   "execution_count": 57,
   "id": "b02425b0",
   "metadata": {},
   "outputs": [],
   "source": [
    "#convert to lowercase\n",
    "def conv_low(text):\n",
    "    return text.lower()"
   ]
  },
  {
   "cell_type": "code",
   "execution_count": 69,
   "id": "d8304dbf",
   "metadata": {},
   "outputs": [],
   "source": [
    "df['review'] = df['review'].apply(conv_low)"
   ]
  },
  {
   "cell_type": "code",
   "execution_count": 70,
   "id": "1dfcb787",
   "metadata": {},
   "outputs": [],
   "source": [
    "#remove special characters\n",
    "def rem_special(text):\n",
    "    x = ''\n",
    "    for i in text:\n",
    "        if i.isalnum():\n",
    "            x = x + i\n",
    "        else:\n",
    "            x = x + ' '\n",
    "    return x"
   ]
  },
  {
   "cell_type": "code",
   "execution_count": 71,
   "id": "ff34c242",
   "metadata": {},
   "outputs": [
    {
     "data": {
      "text/plain": [
       "'t he    king i  n the north'"
      ]
     },
     "execution_count": 71,
     "metadata": {},
     "output_type": "execute_result"
    }
   ],
   "source": [
    "rem_special('t@he $$ king i&*n the north')"
   ]
  },
  {
   "cell_type": "code",
   "execution_count": 80,
   "id": "05bafbe9",
   "metadata": {},
   "outputs": [],
   "source": [
    "df['review'] = df['review'].apply(rem_special)\n",
    "df1 = df"
   ]
  },
  {
   "cell_type": "code",
   "execution_count": 81,
   "id": "7c8c2faa",
   "metadata": {},
   "outputs": [],
   "source": [
    "#remove stop word (words like: and, a, if)\n",
    "import nltk"
   ]
  },
  {
   "cell_type": "code",
   "execution_count": 82,
   "id": "981782fc",
   "metadata": {},
   "outputs": [],
   "source": [
    "from nltk.corpus import stopwords #stopwords is a class"
   ]
  },
  {
   "cell_type": "code",
   "execution_count": 83,
   "id": "b1274250",
   "metadata": {},
   "outputs": [],
   "source": [
    "def rem_stopwords(text):\n",
    "    x = []\n",
    "    for i in text.split():\n",
    "        if i not in stopwords.words('english'):\n",
    "            x.append(i)\n",
    "    y = x[:]\n",
    "    x.clear()\n",
    "    return y"
   ]
  },
  {
   "cell_type": "code",
   "execution_count": null,
   "id": "3b4774ca",
   "metadata": {},
   "outputs": [],
   "source": [
    "df1['review'] = df1['review'].apply(rem_stopwords)\n",
    "df2 = df1\n",
    "df2"
   ]
  },
  {
   "cell_type": "code",
   "execution_count": null,
   "id": "a1aa6a7e",
   "metadata": {},
   "outputs": [],
   "source": [
    "#perform stemming (convert v1,v3,v4,v5 to v2)\n",
    "from nltk.stem import WordNetLemmatizer, PorterStemmer\n",
    "ps = PorterStemmer()\n",
    "wnl = WordNetLemmatizer()"
   ]
  },
  {
   "cell_type": "code",
   "execution_count": null,
   "id": "fa16a6ae",
   "metadata": {},
   "outputs": [],
   "source": [
    "y = []\n",
    "def stem_words(text):\n",
    "    for i in text:\n",
    "        y.append(wnl.lemmatize(i) if wnl.lemmatize(i).endswith('e') else ps.stem(i))\n",
    "    z = y[:]\n",
    "    y.clear()\n",
    "    return z"
   ]
  },
  {
   "cell_type": "code",
   "execution_count": null,
   "id": "3c565392",
   "metadata": {},
   "outputs": [],
   "source": [
    "stem_words(['i','loved','loving','it'])"
   ]
  },
  {
   "cell_type": "code",
   "execution_count": null,
   "id": "f0574ab5",
   "metadata": {},
   "outputs": [],
   "source": [
    "df2['review'] = df2['review'].apply(stem_words)\n",
    "df3 = df2\n",
    "df3"
   ]
  },
  {
   "cell_type": "markdown",
   "id": "4b01515a",
   "metadata": {},
   "source": [
    "### Create Bag of words"
   ]
  },
  {
   "cell_type": "code",
   "execution_count": null,
   "id": "f308bfb7",
   "metadata": {},
   "outputs": [],
   "source": [
    "from sklearn.feature_extraction.text import CountVectorizer\n",
    "cv = CountVectorizer()"
   ]
  },
  {
   "cell_type": "code",
   "execution_count": null,
   "id": "3592062c",
   "metadata": {},
   "outputs": [],
   "source": [
    "X = cv.fit_transform(df3['review']).toarray()"
   ]
  },
  {
   "cell_type": "code",
   "execution_count": null,
   "id": "bd2d4d9a",
   "metadata": {},
   "outputs": [],
   "source": [
    "X.shape "
   ]
  },
  {
   "cell_type": "code",
   "execution_count": null,
   "id": "5de4d71b",
   "metadata": {},
   "outputs": [],
   "source": [
    "y = df3.iloc[:,-1].values"
   ]
  },
  {
   "cell_type": "code",
   "execution_count": null,
   "id": "9da9da4a",
   "metadata": {},
   "outputs": [],
   "source": []
  }
 ],
 "metadata": {
  "kernelspec": {
   "display_name": "Python 3",
   "language": "python",
   "name": "python3"
  },
  "language_info": {
   "codemirror_mode": {
    "name": "ipython",
    "version": 3
   },
   "file_extension": ".py",
   "mimetype": "text/x-python",
   "name": "python",
   "nbconvert_exporter": "python",
   "pygments_lexer": "ipython3",
   "version": "3.7.9"
  }
 },
 "nbformat": 4,
 "nbformat_minor": 5
}
